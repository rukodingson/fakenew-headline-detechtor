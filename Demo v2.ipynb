{
 "cells": [
  {
   "cell_type": "code",
   "execution_count": 1,
   "id": "c64e270a",
   "metadata": {},
   "outputs": [],
   "source": [
    "import os\n",
    "import pickle\n",
    "import string\n",
    "from tkinter import *\n",
    "from tkinter.font import Font\n",
    "from sklearn.feature_extraction.text import TfidfVectorizer\n",
    "from nltk.corpus import stopwords\n",
    "from nltk.stem import WordNetLemmatizer\n",
    "\n",
    "# Path to the directory containing the model and vectorizer\n",
    "directory = r\"C:\\Users\\thevi\\Downloads\\Project\"\n",
    "os.chdir(directory)\n",
    "\n",
    "# Load the trained model and vectorizer\n",
    "with open('best_logistic_regression_model.pkl', 'rb') as model_file:\n",
    "    logistic_model = pickle.load(model_file)\n",
    "\n",
    "with open('tfidf_vectorizer.pkl', 'rb') as vectorizer_file:\n",
    "    tfidf_vectorizer = pickle.load(vectorizer_file)\n",
    "\n",
    "def preprocess_text(text):\n",
    "    text = text.lower()\n",
    "    text = text.translate(str.maketrans('', '', string.punctuation))\n",
    "    stop_words = set(stopwords.words('english'))\n",
    "    words = [word for word in text.split() if word not in stop_words]\n",
    "    lemmatizer = WordNetLemmatizer()\n",
    "    return ' '.join([lemmatizer.lemmatize(word) for word in words])\n",
    "\n",
    "def classify_title(title):\n",
    "    processed_title = preprocess_text(title)\n",
    "    title_vector = tfidf_vectorizer.transform([processed_title])\n",
    "    prediction = logistic_model.predict(title_vector)\n",
    "    return 'Real' if prediction[0] == 1 else 'Fake'\n",
    "\n",
    "def on_submit():\n",
    "    title = entry.get()\n",
    "    result = classify_title(title)\n",
    "    result_label.config(text=f\"The title '{title}' is classified as {result}\")\n",
    "\n",
    "root = Tk()\n",
    "root.title(\"News Title Classifier\")\n",
    "\n",
    "# Increase font size for all widgets\n",
    "font_style = Font(family=\"Helvetica\", size=16)\n",
    "\n",
    "label = Label(root, text=\"Enter your news title here:\", font=font_style)\n",
    "label.pack()\n",
    "\n",
    "entry = Entry(root, width=100, font=font_style)  # Increased width and font size\n",
    "entry.pack()\n",
    "\n",
    "submit_button = Button(root, text=\"Classify Title\", command=on_submit, font=font_style)\n",
    "submit_button.pack()\n",
    "\n",
    "result_label = Label(root, text=\"\", font=font_style)\n",
    "result_label.pack()\n",
    "\n",
    "root.mainloop()"
   ]
  },
  {
   "cell_type": "code",
   "execution_count": 2,
   "id": "679908af",
   "metadata": {},
   "outputs": [
    {
     "ename": "SyntaxError",
     "evalue": "invalid syntax (2028267369.py, line 1)",
     "output_type": "error",
     "traceback": [
      "\u001b[1;36m  Cell \u001b[1;32mIn[2], line 1\u001b[1;36m\u001b[0m\n\u001b[1;33m    pyinstaller --onefile --windowed your_script_name.py\u001b[0m\n\u001b[1;37m                                     ^\u001b[0m\n\u001b[1;31mSyntaxError\u001b[0m\u001b[1;31m:\u001b[0m invalid syntax\n"
     ]
    }
   ],
   "source": [
    "pyinstaller --onefile --windowed your_script_name.py"
   ]
  },
  {
   "cell_type": "code",
   "execution_count": null,
   "id": "22e36fe5",
   "metadata": {},
   "outputs": [],
   "source": []
  }
 ],
 "metadata": {
  "kernelspec": {
   "display_name": "Python 3 (ipykernel)",
   "language": "python",
   "name": "python3"
  },
  "language_info": {
   "codemirror_mode": {
    "name": "ipython",
    "version": 3
   },
   "file_extension": ".py",
   "mimetype": "text/x-python",
   "name": "python",
   "nbconvert_exporter": "python",
   "pygments_lexer": "ipython3",
   "version": "3.11.5"
  }
 },
 "nbformat": 4,
 "nbformat_minor": 5
}
