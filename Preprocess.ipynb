{
 "cells": [
  {
   "cell_type": "code",
   "execution_count": 4,
   "id": "ce4b30fe",
   "metadata": {},
   "outputs": [],
   "source": [
    "def read_dataframe(tsv_file: str) -> pd.DataFrame:\n",
    "    \n",
    "    # creates a \"dataframe\" or \"df\" for short. This is similar to a 2-D python dict.\n",
    "    df = pd.read_csv(tsv_file, delimiter='\\t', dtype=object)\n",
    "    \n",
    "    # replaces all \"null\" or \"NaN\" values with an empty string\n",
    "    df.fillna(\"\", inplace=True)\n",
    "    \n",
    "    # labels the columns in the dataset using the data dictionary described in the README\n",
    "    df.columns = [\n",
    "        'id',                # Column 1: the ID of the statement ([ID].json).\n",
    "        'label',             # Column 2: the label.\n",
    "        'statement',         # Column 3: the statement.\n",
    "        'subjects',          # Column 4: the subject(s).\n",
    "        'speaker',           # Column 5: the speaker.\n",
    "        'speaker_job_title', # Column 6: the speaker's job title.\n",
    "        'state_info',        # Column 7: the state info.\n",
    "        'party_affiliation', # Column 8: the party affiliation.\n",
    "        \n",
    "        # Column 9-13: the total credit history count, including the current statement.\n",
    "        'count_1', # barely true counts.\n",
    "        'count_2', # false counts.\n",
    "        'count_3', # half true counts.\n",
    "        'count_4', # mostly true counts.\n",
    "        'count_5', # pants on fire counts.\n",
    "        \n",
    "        'context' # Column 14: the context (venue / location of the speech or statement).\n",
    "    ]\n",
    "    \n",
    "    return df"
   ]
  },
  {
   "cell_type": "code",
   "execution_count": 7,
   "id": "05da9e41",
   "metadata": {},
   "outputs": [
    {
     "name": "stdout",
     "output_type": "stream",
     "text": [
      "         label                                          statement\n",
      "0    half-true  When did the decline of coal start? It started...\n",
      "1  mostly-true  Hillary Clinton agrees with John McCain \"by vo...\n",
      "2        false  Health care reform legislation is likely to ma...\n",
      "3    half-true  The economic turnaround started at the end of ...\n",
      "4         true  The Chicago Bears have had more starting quart...\n"
     ]
    }
   ],
   "source": [
    "train_liar = read_dataframe(r\"C:\\Users\\thevi\\Downloads\\Project\\liar_dataset\\train.tsv\")\n",
    "# Drop all columns except 'label' and 'statement'\n",
    "columns_to_keep = ['label', 'statement']\n",
    "train_liar = train_liar[columns_to_keep]\n",
    "\n",
    "print(train_liar.head())"
   ]
  },
  {
   "cell_type": "code",
   "execution_count": 8,
   "id": "a8653697",
   "metadata": {},
   "outputs": [
    {
     "name": "stdout",
     "output_type": "stream",
     "text": [
      "label\n",
      "half-true      2114\n",
      "false          1994\n",
      "mostly-true    1962\n",
      "true           1676\n",
      "barely-true    1654\n",
      "pants-fire      839\n",
      "Name: count, dtype: int64\n"
     ]
    }
   ],
   "source": [
    "# Get the counts of each label\n",
    "label_counts = train_liar['label'].value_counts()\n",
    "\n",
    "print(label_counts)"
   ]
  },
  {
   "cell_type": "code",
   "execution_count": 10,
   "id": "3f678735",
   "metadata": {},
   "outputs": [
    {
     "name": "stdout",
     "output_type": "stream",
     "text": [
      "label\n",
      "Real    5752\n",
      "Fake    4487\n",
      "Name: count, dtype: int64\n"
     ]
    }
   ],
   "source": [
    "# Function to categorize labels as 'Fake' or 'Real'\n",
    "def categorize_label(label):\n",
    "    if label in ['false', 'barely-true', 'pants-fire']:\n",
    "        return 'Fake'\n",
    "    elif label in ['half-true', 'mostly-true', 'true']:\n",
    "        return 'Real'\n",
    "    else:\n",
    "        return label  # For any label that doesn't match the above\n",
    "\n",
    "# Apply the function to the 'label' column\n",
    "train_liar['label'] = train_liar['label'].apply(categorize_label)\n",
    "\n",
    "# Get the counts of each category\n",
    "label_counts = train_liar['label'].value_counts()\n",
    "\n",
    "print(label_counts)\n",
    "# Save the combined dataset to a new CSV file\n",
    "train_liar.to_csv(\"C:\\\\Users\\\\thevi\\\\Downloads\\\\Project\\\\archive\\\\train_liar.csv\", index=False)"
   ]
  },
  {
   "cell_type": "code",
   "execution_count": 16,
   "id": "726c6cd5",
   "metadata": {},
   "outputs": [
    {
     "name": "stdout",
     "output_type": "stream",
     "text": [
      "  label                                          statement\n",
      "0  Fake  When Obama was sworn into office, he DID NOT u...\n",
      "1  Fake  Says Having organizations parading as being so...\n",
      "2  Real     Says nearly half of Oregons children are poor.\n",
      "3  Real  On attacks by Republicans that various program...\n",
      "4  Fake  Says when armed civilians stop mass shootings ...\n"
     ]
    }
   ],
   "source": [
    "valid_liar = read_dataframe(r\"C:\\Users\\thevi\\Downloads\\Project\\liar_dataset\\valid.tsv\")\n",
    "# Drop all columns except 'label' and 'statement'\n",
    "columns_to_keep = ['label', 'statement']\n",
    "valid_liar = valid_liar[columns_to_keep]\n",
    "# Apply the function to the 'label' column\n",
    "valid_liar['label'] = valid_liar['label'].apply(categorize_label)\n",
    "# Save the combined dataset to a new CSV file\n",
    "valid_liar.to_csv(\"C:\\\\Users\\\\thevi\\\\Downloads\\\\Project\\\\archive\\\\valid_liar.csv\", index=False)\n",
    "print(valid_liar.head())"
   ]
  },
  {
   "cell_type": "code",
   "execution_count": 17,
   "id": "f275f49d",
   "metadata": {},
   "outputs": [
    {
     "name": "stdout",
     "output_type": "stream",
     "text": [
      "  label                                          statement\n",
      "0  Fake  Wisconsin is on pace to double the number of l...\n",
      "1  Fake  Says John McCain has done nothing to help the ...\n",
      "2  Real  Suzanne Bonamici supports a plan that will cut...\n",
      "3  Fake  When asked by a reporter whether hes at the ce...\n",
      "4  Real  Over the past five years the federal governmen...\n"
     ]
    }
   ],
   "source": [
    "test_liar = read_dataframe(r\"C:\\Users\\thevi\\Downloads\\Project\\liar_dataset\\test.tsv\")\n",
    "# Drop all columns except 'label' and 'statement'\n",
    "columns_to_keep = ['label', 'statement']\n",
    "test_liar = test_liar[columns_to_keep]\n",
    "# Apply the function to the 'label' column\n",
    "test_liar['label'] = test_liar['label'].apply(categorize_label)\n",
    "# Save the combined dataset to a new CSV file\n",
    "test_liar.to_csv(\"C:\\\\Users\\\\thevi\\\\Downloads\\\\Project\\\\archive\\\\test_liar.csv\", index=False)\n",
    "print(test_liar.head())"
   ]
  },
  {
   "cell_type": "code",
   "execution_count": null,
   "id": "ed61873c",
   "metadata": {},
   "outputs": [],
   "source": []
  }
 ],
 "metadata": {
  "kernelspec": {
   "display_name": "Python 3 (ipykernel)",
   "language": "python",
   "name": "python3"
  },
  "language_info": {
   "codemirror_mode": {
    "name": "ipython",
    "version": 3
   },
   "file_extension": ".py",
   "mimetype": "text/x-python",
   "name": "python",
   "nbconvert_exporter": "python",
   "pygments_lexer": "ipython3",
   "version": "3.11.5"
  }
 },
 "nbformat": 4,
 "nbformat_minor": 5
}
